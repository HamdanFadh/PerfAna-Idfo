{
  "cells": [
    {
      "cell_type": "code",
      "execution_count": 1,
      "id": "78e5644c",
      "metadata": {
        "id": "78e5644c",
        "outputId": "1980d42a-de35-4000-b168-ddeab7dbbde3",
        "colab": {
          "base_uri": "https://localhost:8080/"
        }
      },
      "outputs": [
        {
          "output_type": "stream",
          "name": "stdout",
          "text": [
            "/content\n"
          ]
        }
      ],
      "source": [
        "cd /content"
      ]
    },
    {
      "cell_type": "code",
      "execution_count": 4,
      "id": "4cda8b62",
      "metadata": {
        "id": "4cda8b62",
        "outputId": "26e68c67-917e-414f-c6be-799c0d3a63f3",
        "colab": {
          "base_uri": "https://localhost:8080/"
        }
      },
      "outputs": [
        {
          "output_type": "stream",
          "name": "stdout",
          "text": [
            "                                                name  \\\n",
            "0                      Linggar Alfaridz (0056356345)   \n",
            "1                       Haris Sawaludin (0038011423)   \n",
            "2               Setiadi Ponco Leksono (setiadiponco)   \n",
            "3                             Dio Saputra (computer)   \n",
            "4   Muhamad Iqbal Handika Rahmatulloh (iqbalhandika)   \n",
            "..                                               ...   \n",
            "35                    Rossyana Rachmawati (rossyana)   \n",
            "36                                         (balinda)   \n",
            "37                          Junita Isna (junitaisna)   \n",
            "38                       Rahayu Novita Sari (rahayu)   \n",
            "39         Ivana Purbaningtyas (ivana.purbaningtyas)   \n",
            "\n",
            "    Lab 14 -  Automating Task with Cron  Lab 03A - Change Permission  \\\n",
            "0                                     0                          100   \n",
            "1                                     0                          100   \n",
            "2                                     0                          100   \n",
            "3                                     0                            0   \n",
            "4                                     0                          100   \n",
            "..                                  ...                          ...   \n",
            "35                                    0                            0   \n",
            "36                                    0                            0   \n",
            "37                                    0                            0   \n",
            "38                                    0                            0   \n",
            "39                                    0                            0   \n",
            "\n",
            "    Lab 02A - Create User  Lab 03B - Change Owner  Lab 02B - Change Password  \\\n",
            "0                     100                     100                        100   \n",
            "1                     100                     100                        100   \n",
            "2                     100                     100                        100   \n",
            "3                       0                       0                          0   \n",
            "4                     100                     100                        100   \n",
            "..                    ...                     ...                        ...   \n",
            "35                    100                       0                        100   \n",
            "36                      0                       0                          0   \n",
            "37                      0                       0                          0   \n",
            "38                      0                       0                          0   \n",
            "39                      0                       0                          0   \n",
            "\n",
            "    Lab 02C - Add user to sudoers  Lab 11A -  Installing Package  \\\n",
            "0                             100                              0   \n",
            "1                             100                              0   \n",
            "2                             100                              0   \n",
            "3                               0                              0   \n",
            "4                             100                              0   \n",
            "..                            ...                            ...   \n",
            "35                            100                              0   \n",
            "36                              0                              0   \n",
            "37                              0                              0   \n",
            "38                              0                              0   \n",
            "39                              0                              0   \n",
            "\n",
            "    Lab 11C -  Compress File  Lab 05A - Creating Directory  \\\n",
            "0                          0                           100   \n",
            "1                          0                           100   \n",
            "2                          0                           100   \n",
            "3                          0                             0   \n",
            "4                          0                             0   \n",
            "..                       ...                           ...   \n",
            "35                         0                             0   \n",
            "36                         0                             0   \n",
            "37                         0                             0   \n",
            "38                         0                             0   \n",
            "39                         0                             0   \n",
            "\n",
            "    Lab 05B - Creating File  Lab 05C - Move File  Lab 05D - Copy File  \\\n",
            "0                       100                  100                  100   \n",
            "1                         0                    0                    0   \n",
            "2                       100                  100                  100   \n",
            "3                         0                    0                    0   \n",
            "4                         0                    0                    0   \n",
            "..                      ...                  ...                  ...   \n",
            "35                        0                    0                    0   \n",
            "36                        0                    0                    0   \n",
            "37                        0                    0                    0   \n",
            "38                        0                    0                    0   \n",
            "39                        0                    0                    0   \n",
            "\n",
            "    Lab 05E - Remove File  Lab 05F - Redirection Output  \\\n",
            "0                     100                           100   \n",
            "1                       0                             0   \n",
            "2                     100                           100   \n",
            "3                       0                             0   \n",
            "4                       0                             0   \n",
            "..                    ...                           ...   \n",
            "35                      0                             0   \n",
            "36                      0                             0   \n",
            "37                      0                             0   \n",
            "38                      0                             0   \n",
            "39                      0                             0   \n",
            "\n",
            "    Lab 08A - Change Timezone  Lab 08B - Change Hostname  \\\n",
            "0                           0                          0   \n",
            "1                           0                          0   \n",
            "2                           0                          0   \n",
            "3                           0                          0   \n",
            "4                           0                          0   \n",
            "..                        ...                        ...   \n",
            "35                          0                          0   \n",
            "36                          0                          0   \n",
            "37                          0                          0   \n",
            "38                          0                          0   \n",
            "39                          0                          0   \n",
            "\n",
            "    Lab 10A - Configure IP Address  Lab 12A -  Block Port with Iptables  \\\n",
            "0                                0                                    0   \n",
            "1                                0                                    0   \n",
            "2                                0                                    0   \n",
            "3                                0                                    0   \n",
            "4                                0                                    0   \n",
            "..                             ...                                  ...   \n",
            "35                               0                                    0   \n",
            "36                               0                                    0   \n",
            "37                               0                                    0   \n",
            "38                               0                                    0   \n",
            "39                               0                                    0   \n",
            "\n",
            "    Lab 12B -  Check Integrity with md5sum  \n",
            "0                                        0  \n",
            "1                                        0  \n",
            "2                                        0  \n",
            "3                                        0  \n",
            "4                                        0  \n",
            "..                                     ...  \n",
            "35                                       0  \n",
            "36                                       0  \n",
            "37                                       0  \n",
            "38                                       0  \n",
            "39                                       0  \n",
            "\n",
            "[207 rows x 20 columns]\n"
          ]
        }
      ],
      "source": [
        "import pandas as pd\n",
        "import glob\n",
        "import os\n",
        "\n",
        "joined_list = os.path.join('Lab', 'Tugas*.csv')\n",
        "\n",
        "joined_files = glob.glob(joined_list)\n",
        "df = pd.concat(map(pd.read_csv, joined_files))\n",
        "print(df)"
      ]
    },
    {
      "cell_type": "code",
      "execution_count": 5,
      "id": "18f15f48",
      "metadata": {
        "id": "18f15f48"
      },
      "outputs": [],
      "source": [
        "df.to_csv('output_lab.csv')"
      ]
    }
  ],
  "metadata": {
    "kernelspec": {
      "display_name": "Python 3 (ipykernel)",
      "language": "python",
      "name": "python3"
    },
    "language_info": {
      "codemirror_mode": {
        "name": "ipython",
        "version": 3
      },
      "file_extension": ".py",
      "mimetype": "text/x-python",
      "name": "python",
      "nbconvert_exporter": "python",
      "pygments_lexer": "ipython3",
      "version": "3.10.4"
    },
    "colab": {
      "provenance": []
    }
  },
  "nbformat": 4,
  "nbformat_minor": 5
}