{
 "cells": [
  {
   "cell_type": "code",
   "execution_count": 42,
   "id": "78e5644c",
   "metadata": {},
   "outputs": [
    {
     "name": "stdout",
     "output_type": "stream",
     "text": [
      "C:\\Users\\runner\\Documents\\IDF ANALYTICS\\Performance Linux+ 2 2022\\Raw\n"
     ]
    }
   ],
   "source": [
    "cd C:\\Users\\runner\\Documents\\IDF ANALYTICS\\Performance Linux+ 2 2022\\Raw"
   ]
  },
  {
   "cell_type": "code",
   "execution_count": 43,
   "id": "4cda8b62",
   "metadata": {},
   "outputs": [
    {
     "name": "stdout",
     "output_type": "stream",
     "text": [
      "                                        Nama Peserta  Linux+ Chapter03  \\\n",
      "0                      Linggar Alfaridz (0056356345)                 0   \n",
      "1                       Haris Sawaludin (0038011423)                 0   \n",
      "2               Setiadi Ponco Leksono (setiadiponco)               100   \n",
      "3                             Dio Saputra (computer)                 0   \n",
      "4   Muhamad Iqbal Handika Rahmatulloh (iqbalhandika)                 0   \n",
      "..                                               ...               ...   \n",
      "58                          Bryant Nanur (bryant14_)                 0   \n",
      "59                    Anggi Permana Putra (anggi267)               100   \n",
      "60              Intan Zakiah Ramadhani (intanzakiah)                 0   \n",
      "61                 Dicky Dwi Ardian (dickydwiardian)                80   \n",
      "62                    Ilham fikriya Syahdan (ilhamm)                 0   \n",
      "\n",
      "    Linux+ Chapter02  Linux+ Pre Test Mentoring 03  Linux+ Review  \\\n",
      "0                  0                             0              0   \n",
      "1                  0                             0              0   \n",
      "2                100                             0              0   \n",
      "3                  0                             0              0   \n",
      "4                 80                             0              0   \n",
      "..               ...                           ...            ...   \n",
      "58                60                             0              0   \n",
      "59               100                             0              0   \n",
      "60               100                             0              0   \n",
      "61               100                             0              0   \n",
      "62                 0                             0              0   \n",
      "\n",
      "    Linux+ Mid Review  Linux+ Chapter12  Linux+ Post Test 01  \\\n",
      "0                   0                 0                   80   \n",
      "1                   0                 0                   80   \n",
      "2                   0                 0                   80   \n",
      "3                   0                 0                   80   \n",
      "4                   0                 0                   80   \n",
      "..                ...               ...                  ...   \n",
      "58                  0                 0                  100   \n",
      "59                  0                 0                  100   \n",
      "60                  0                 0                  100   \n",
      "61                  0                 0                  100   \n",
      "62                  0                 0                   60   \n",
      "\n",
      "    Linux+ Pre Test 02  Linux+ Pre Test 06  ...  Linux+ Pre Test 05  \\\n",
      "0                  100                   0  ...                   0   \n",
      "1                  100                   0  ...                   0   \n",
      "2                  100                   0  ...                   0   \n",
      "3                   80                   0  ...                   0   \n",
      "4                  100                   0  ...                   0   \n",
      "..                 ...                 ...  ...                 ...   \n",
      "58                  80                   0  ...                   0   \n",
      "59                 100                   0  ...                   0   \n",
      "60                 100                   0  ...                   0   \n",
      "61                  80                   0  ...                   0   \n",
      "62                   0                   0  ...                   0   \n",
      "\n",
      "    Linux+ Post Test 07  Linux+ Post Test Mentoring 01  Linux+ Post Test 08  \\\n",
      "0                     0                              0                    0   \n",
      "1                     0                              0                    0   \n",
      "2                     0                              0                    0   \n",
      "3                     0                              0                    0   \n",
      "4                     0                              0                    0   \n",
      "..                  ...                            ...                  ...   \n",
      "58                    0                              0                    0   \n",
      "59                    0                              0                    0   \n",
      "60                    0                              0                    0   \n",
      "61                    0                              0                    0   \n",
      "62                    0                              0                    0   \n",
      "\n",
      "    Linux+ Pre Test Mentoring 04  Linux+ Pre Test 07  Linux+ Pre Test 08  \\\n",
      "0                              0                   0                   0   \n",
      "1                              0                   0                   0   \n",
      "2                              0                   0                   0   \n",
      "3                              0                   0                   0   \n",
      "4                              0                   0                   0   \n",
      "..                           ...                 ...                 ...   \n",
      "58                             0                   0                   0   \n",
      "59                             0                   0                   0   \n",
      "60                             0                   0                   0   \n",
      "61                             0                   0                   0   \n",
      "62                             0                   0                   0   \n",
      "\n",
      "    Linux+ Pre Test Mentoring 004  Linux+ Post Test Mentoring 04  \\\n",
      "0                               0                              0   \n",
      "1                               0                              0   \n",
      "2                               0                              0   \n",
      "3                               0                              0   \n",
      "4                               0                              0   \n",
      "..                            ...                            ...   \n",
      "58                              0                              0   \n",
      "59                              0                              0   \n",
      "60                              0                              0   \n",
      "61                              0                              0   \n",
      "62                              0                              0   \n",
      "\n",
      "    Linux+ Chapter16  \n",
      "0                  0  \n",
      "1                  0  \n",
      "2                  0  \n",
      "3                  0  \n",
      "4                  0  \n",
      "..               ...  \n",
      "58                 0  \n",
      "59                 0  \n",
      "60                 0  \n",
      "61                 0  \n",
      "62                 0  \n",
      "\n",
      "[207 rows x 46 columns]\n"
     ]
    }
   ],
   "source": [
    "import pandas as pd\n",
    "import glob\n",
    "import os\n",
    "\n",
    "joined_list = os.path.join('Quiz', 'Quiz*.csv')\n",
    "\n",
    "joined_files = glob.glob(joined_list)\n",
    "df = pd.concat(map(pd.read_csv, joined_files))\n",
    "print(df)"
   ]
  },
  {
   "cell_type": "code",
   "execution_count": 45,
   "id": "18f15f48",
   "metadata": {},
   "outputs": [],
   "source": [
    "df.to_csv('output_quiz.csv')"
   ]
  }
 ],
 "metadata": {
  "kernelspec": {
   "display_name": "Python 3 (ipykernel)",
   "language": "python",
   "name": "python3"
  },
  "language_info": {
   "codemirror_mode": {
    "name": "ipython",
    "version": 3
   },
   "file_extension": ".py",
   "mimetype": "text/x-python",
   "name": "python",
   "nbconvert_exporter": "python",
   "pygments_lexer": "ipython3",
   "version": "3.10.4"
  }
 },
 "nbformat": 4,
 "nbformat_minor": 5
}
