{
  "cells": [
    {
      "cell_type": "code",
      "execution_count": 32,
      "id": "78e5644c",
      "metadata": {
        "colab": {
          "base_uri": "https://localhost:8080/"
        },
        "id": "78e5644c",
        "outputId": "183d3910-f60e-49a8-a561-da260caefae6"
      },
      "outputs": [
        {
          "output_type": "stream",
          "name": "stdout",
          "text": [
            "/content\n"
          ]
        }
      ],
      "source": [
        "cd /content"
      ]
    },
    {
      "cell_type": "code",
      "execution_count": null,
      "id": "4cda8b62",
      "metadata": {
        "id": "4cda8b62"
      },
      "outputs": [],
      "source": [
        "import pandas as pd\n",
        "import glob\n",
        "import os\n",
        "\n",
        "joined_list = os.path.join('Lab', 'Tugas*.csv')\n",
        "\n",
        "joined_files = glob.glob(joined_list)\n",
        "df_lab = pd.concat(map(pd.read_csv, joined_files))\n",
        "df_lab.to_csv('output_lab.csv')\n",
        "print(df_lab)"
      ]
    },
    {
      "cell_type": "code",
      "execution_count": null,
      "metadata": {
        "id": "IboYXUUl7X2h"
      },
      "outputs": [],
      "source": [
        "joined_list = os.path.join('Quiz', 'Quiz*.csv')\n",
        "\n",
        "joined_files = glob.glob(joined_list)\n",
        "df_quiz = pd.concat(map(pd.read_csv, joined_files))\n",
        "df_quiz.to_csv('output_quiz.csv')\n",
        "print(df_quiz)"
      ],
      "id": "IboYXUUl7X2h"
    },
    {
      "cell_type": "code",
      "source": [
        "lab = pd.read_csv('output_lab.csv')\n",
        "quiz = pd.read_csv('output_quiz.csv')"
      ],
      "metadata": {
        "id": "tfPcYGyVgJo4"
      },
      "id": "tfPcYGyVgJo4",
      "execution_count": 35,
      "outputs": []
    },
    {
      "cell_type": "code",
      "source": [
        "print(lab)"
      ],
      "metadata": {
        "id": "_KQw3BWehCfP"
      },
      "id": "_KQw3BWehCfP",
      "execution_count": null,
      "outputs": []
    },
    {
      "cell_type": "code",
      "source": [
        "all = pd.merge(lab,quiz,left_on='name',right_on='Nama Peserta')"
      ],
      "metadata": {
        "id": "6cumwa8DipgP"
      },
      "id": "6cumwa8DipgP",
      "execution_count": 37,
      "outputs": []
    },
    {
      "cell_type": "code",
      "source": [
        "pd.set_option('display.max_columns', None)\n",
        "pd.DataFrame(all)\n"
      ],
      "metadata": {
        "id": "6lfI1yUci7kT"
      },
      "id": "6lfI1yUci7kT",
      "execution_count": null,
      "outputs": []
    },
    {
      "cell_type": "code",
      "source": [
        "all = all.drop(['Unnamed: 0_x','Unnamed: 0_y','Nama Peserta'], axis=1)\n",
        "pd.DataFrame(all)"
      ],
      "metadata": {
        "id": "Mw_tM7-UjBSw"
      },
      "id": "Mw_tM7-UjBSw",
      "execution_count": null,
      "outputs": []
    },
    {
      "cell_type": "code",
      "source": [
        "all = all.melt(id_vars = 'name', var_name = 'Quiz Name', value_name = 'Score')\n",
        "all[['Nama Peserta', 'Username']] = all.name.str.split('(', expand = True)\n",
        "all['Username'] = all['Username'].str.replace(')', '')\n",
        "all = all.drop(['name'], axis=1)\n",
        "all = all[['Nama Peserta', 'Username', 'Quiz Name', 'Score']]\n",
        "all.to_excel('output_all.xlsx', index = False)"
      ],
      "metadata": {
        "id": "_sshHdbt-B7M"
      },
      "id": "_sshHdbt-B7M",
      "execution_count": null,
      "outputs": []
    },
    {
      "cell_type": "code",
      "source": [
        "pd.DataFrame(all)\n"
      ],
      "metadata": {
        "id": "ySm-RtpUlTea"
      },
      "id": "ySm-RtpUlTea",
      "execution_count": null,
      "outputs": []
    }
  ],
  "metadata": {
    "kernelspec": {
      "display_name": "Python 3 (ipykernel)",
      "language": "python",
      "name": "python3"
    },
    "language_info": {
      "codemirror_mode": {
        "name": "ipython",
        "version": 3
      },
      "file_extension": ".py",
      "mimetype": "text/x-python",
      "name": "python",
      "nbconvert_exporter": "python",
      "pygments_lexer": "ipython3",
      "version": "3.10.4"
    },
    "colab": {
      "provenance": []
    }
  },
  "nbformat": 4,
  "nbformat_minor": 5
}